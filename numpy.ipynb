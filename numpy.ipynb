{
  "nbformat": 4,
  "nbformat_minor": 0,
  "metadata": {
    "colab": {
      "provenance": [],
      "authorship_tag": "ABX9TyPL46Tgk658wVQ1rA6NWwvt",
      "include_colab_link": true
    },
    "kernelspec": {
      "name": "python3",
      "display_name": "Python 3"
    },
    "language_info": {
      "name": "python"
    }
  },
  "cells": [
    {
      "cell_type": "markdown",
      "metadata": {
        "id": "view-in-github",
        "colab_type": "text"
      },
      "source": [
        "<a href=\"https://colab.research.google.com/github/Shifana4303/numpy/blob/main/numpy.ipynb\" target=\"_parent\"><img src=\"https://colab.research.google.com/assets/colab-badge.svg\" alt=\"Open In Colab\"/></a>"
      ]
    },
    {
      "cell_type": "code",
      "execution_count": null,
      "metadata": {
        "colab": {
          "base_uri": "https://localhost:8080/"
        },
        "id": "XZylj3gGFYWG",
        "outputId": "ab2c1b20-fd09-4ef5-f07c-aafb567a711a"
      },
      "outputs": [
        {
          "output_type": "execute_result",
          "data": {
            "text/plain": [
              "array([1, 2, 3, 4])"
            ]
          },
          "metadata": {},
          "execution_count": 4
        }
      ],
      "source": [
        "import numpy as np #numerical python\n",
        "\n",
        "#array collection of data with same datatype(homogenious)\n",
        "\n",
        "a=np.array([1,2,3,4])\n",
        "\n",
        "a"
      ]
    },
    {
      "cell_type": "code",
      "source": [
        "\n",
        "\n",
        "a=np.array([1,2,3.0,4])\n",
        "\n",
        "a"
      ],
      "metadata": {
        "colab": {
          "base_uri": "https://localhost:8080/"
        },
        "id": "KxCLpS2OG0qH",
        "outputId": "809ee838-6efd-4371-dec6-590734c85466"
      },
      "execution_count": null,
      "outputs": [
        {
          "output_type": "execute_result",
          "data": {
            "text/plain": [
              "array([1., 2., 3., 4.])"
            ]
          },
          "metadata": {},
          "execution_count": 7
        }
      ]
    },
    {
      "cell_type": "code",
      "source": [
        "\n",
        "\n",
        "a=np.array([1,2,3.0,4,\"a\"])\n",
        "\n",
        "print(a)"
      ],
      "metadata": {
        "colab": {
          "base_uri": "https://localhost:8080/"
        },
        "id": "OP8HTAiwG6Js",
        "outputId": "ed8ee2e0-ce95-4c6c-b3ec-6a1d49b04237"
      },
      "execution_count": null,
      "outputs": [
        {
          "output_type": "stream",
          "name": "stdout",
          "text": [
            "['1' '2' '3.0' '4' 'a']\n"
          ]
        }
      ]
    },
    {
      "cell_type": "code",
      "source": [
        "#slicing-forward slicing backward slicing\n",
        "\n",
        "b=np.array([1,2,3,4,5])\n",
        "#print 1,2\n",
        "b[0:2]\n",
        "#print 5,4\n",
        "b[-1:-3:-1]\n",
        "#print 4,5\n",
        "b[3:]\n",
        "#print 2,1\n",
        "b[-4::-1]"
      ],
      "metadata": {
        "colab": {
          "base_uri": "https://localhost:8080/"
        },
        "id": "pLH9UMO-HV4B",
        "outputId": "b8995b33-9dfa-4df6-dd2c-2e0b60296e65"
      },
      "execution_count": null,
      "outputs": [
        {
          "output_type": "execute_result",
          "data": {
            "text/plain": [
              "array([2, 1])"
            ]
          },
          "metadata": {},
          "execution_count": 15
        }
      ]
    },
    {
      "cell_type": "code",
      "source": [
        "#dimension\n",
        "\n",
        "a=np.array([0,2,3,4,5])\n",
        "b=np.array([[1,2],[3,4]])\n",
        "a.ndim  #dimension=1   vector\n",
        "b.ndim  #dimension =2  matrix\n",
        "print(b)\n",
        "print(a)\n",
        "b.shape\n"
      ],
      "metadata": {
        "colab": {
          "base_uri": "https://localhost:8080/"
        },
        "id": "wIU6op_VJVeo",
        "outputId": "6b996151-8897-434c-c50c-b00a715bb7e5"
      },
      "execution_count": null,
      "outputs": [
        {
          "output_type": "stream",
          "name": "stdout",
          "text": [
            "[[1 2]\n",
            " [3 4]]\n",
            "[0 2 3 4 5]\n"
          ]
        },
        {
          "output_type": "execute_result",
          "data": {
            "text/plain": [
              "(2, 2)"
            ]
          },
          "metadata": {},
          "execution_count": 10
        }
      ]
    },
    {
      "cell_type": "code",
      "source": [
        "#create a 2x2 matrix 2,3,\n",
        "                     #4,5\n",
        "\n",
        "\n",
        "z=np.array([[2,3],[4,5]])\n",
        "print(z)\n",
        "\n",
        "print(z.shape)\n",
        "print(z.ndim)\n",
        "print(z.size)  #total no. of elements in matrix"
      ],
      "metadata": {
        "colab": {
          "base_uri": "https://localhost:8080/"
        },
        "id": "pOqMFwURKbnG",
        "outputId": "81699a99-d260-414a-c7fb-0103a7c2c6b0"
      },
      "execution_count": null,
      "outputs": [
        {
          "output_type": "stream",
          "name": "stdout",
          "text": [
            "[[2 3]\n",
            " [4 5]]\n",
            "(2, 2)\n",
            "2\n",
            "4\n"
          ]
        }
      ]
    },
    {
      "cell_type": "code",
      "source": [
        "#create a 2x3 matrix and print shape,size,diamension\n",
        "\n",
        "\n",
        "z=np.array([[1,2,3],[4,5,6]])\n",
        "print(z)\n",
        "print(z.shape)\n",
        "print(z.size)\n",
        "print(z.ndim)"
      ],
      "metadata": {
        "colab": {
          "base_uri": "https://localhost:8080/"
        },
        "id": "gWTrEmGaLfKR",
        "outputId": "b3f0e620-b1df-4cfa-a74f-c62fa2b4ea34"
      },
      "execution_count": null,
      "outputs": [
        {
          "output_type": "stream",
          "name": "stdout",
          "text": [
            "[[1 2 3]\n",
            " [4 5 6]]\n",
            "(2, 3)\n",
            "6\n",
            "2\n"
          ]
        }
      ]
    },
    {
      "cell_type": "code",
      "source": [
        "#create a 4x2 matrix display size,shape,dimension\n",
        "\n",
        "z=np.array([[1,2],[3,4],[5,6],[7,8]])\n",
        "print(z)\n",
        "print(z.shape)\n",
        "print(z.size)\n",
        "print(z.ndim)"
      ],
      "metadata": {
        "colab": {
          "base_uri": "https://localhost:8080/"
        },
        "id": "5anz060HMX8l",
        "outputId": "c391efbd-3b66-4a6b-b18d-fd02a43f3509"
      },
      "execution_count": null,
      "outputs": [
        {
          "output_type": "stream",
          "name": "stdout",
          "text": [
            "[[1 2]\n",
            " [3 4]\n",
            " [5 6]\n",
            " [7 8]]\n",
            "(4, 2)\n",
            "8\n",
            "2\n"
          ]
        }
      ]
    },
    {
      "cell_type": "code",
      "source": [
        "#create a 4x4 matrix\n",
        "\n",
        "a=np.array([[1,2,3,4],[5,6,7,8],[9,8,7,6],[1,5,6,7]])\n",
        "print(a)\n",
        "print(a.shape)\n",
        "print(a.size)\n",
        "print(a.ndim)"
      ],
      "metadata": {
        "colab": {
          "base_uri": "https://localhost:8080/"
        },
        "id": "Um8AJPZyNc2u",
        "outputId": "54f7c628-27fa-4a98-a631-1406ea087d64"
      },
      "execution_count": null,
      "outputs": [
        {
          "output_type": "stream",
          "name": "stdout",
          "text": [
            "[[1 2 3 4]\n",
            " [5 6 7 8]\n",
            " [9 8 7 6]\n",
            " [1 5 6 7]]\n",
            "(4, 4)\n",
            "16\n",
            "2\n"
          ]
        }
      ]
    },
    {
      "cell_type": "code",
      "source": [
        "import numpy as np\n",
        "z=np.array([[1,2,3,4],[5,6,7,8],[9,8,7,6],[1,5,6,7]])\n",
        "z[0]\n",
        "z[:,0]                 #z[row,column]\n",
        "z[1,1]\n",
        "z[2,2]\n",
        "z[3,2:]\n",
        "z[2:,2:]\n",
        "z[1:3,3]\n",
        "z[1:3,0:3]\n",
        "z[0:3,1:]\n",
        "z[1:,0:]\n",
        "z[0:,1]\n",
        "z[0:,0:]                 #z"
      ],
      "metadata": {
        "colab": {
          "base_uri": "https://localhost:8080/"
        },
        "id": "CnJFb8PKEXJh",
        "outputId": "de5a4c13-92a3-41ab-89b9-c56b17e2038e"
      },
      "execution_count": null,
      "outputs": [
        {
          "output_type": "execute_result",
          "data": {
            "text/plain": [
              "array([[1, 2, 3, 4],\n",
              "       [5, 6, 7, 8],\n",
              "       [9, 8, 7, 6],\n",
              "       [1, 5, 6, 7]])"
            ]
          },
          "metadata": {},
          "execution_count": 17
        }
      ]
    },
    {
      "cell_type": "code",
      "source": [
        "#zero matrix\n",
        "\n",
        "#z=np.zeros([3,3,3])\n",
        "#z\n",
        "#z=np.zeros([3,3,3],dtype=int)\n",
        "#z\n",
        "z=np.zeros([3,3,3],dtype=complex)           #complex means a+ip format\n",
        "z"
      ],
      "metadata": {
        "colab": {
          "base_uri": "https://localhost:8080/"
        },
        "id": "jnzcRctLJqBY",
        "outputId": "1196d11f-59b8-4344-c1b7-067f464d4057"
      },
      "execution_count": null,
      "outputs": [
        {
          "output_type": "execute_result",
          "data": {
            "text/plain": [
              "array([[[0.+0.j, 0.+0.j, 0.+0.j],\n",
              "        [0.+0.j, 0.+0.j, 0.+0.j],\n",
              "        [0.+0.j, 0.+0.j, 0.+0.j]],\n",
              "\n",
              "       [[0.+0.j, 0.+0.j, 0.+0.j],\n",
              "        [0.+0.j, 0.+0.j, 0.+0.j],\n",
              "        [0.+0.j, 0.+0.j, 0.+0.j]],\n",
              "\n",
              "       [[0.+0.j, 0.+0.j, 0.+0.j],\n",
              "        [0.+0.j, 0.+0.j, 0.+0.j],\n",
              "        [0.+0.j, 0.+0.j, 0.+0.j]]])"
            ]
          },
          "metadata": {},
          "execution_count": 22
        }
      ]
    },
    {
      "cell_type": "code",
      "source": [
        "#one matrix\n",
        "\n",
        "z=np.ones([3,3],dtype=int)\n",
        "z"
      ],
      "metadata": {
        "colab": {
          "base_uri": "https://localhost:8080/"
        },
        "id": "UVn6PpwIKlH8",
        "outputId": "514a23f6-8143-485a-8177-25fb48f1058d"
      },
      "execution_count": null,
      "outputs": [
        {
          "output_type": "execute_result",
          "data": {
            "text/plain": [
              "array([[1, 1, 1],\n",
              "       [1, 1, 1],\n",
              "       [1, 1, 1]])"
            ]
          },
          "metadata": {},
          "execution_count": 23
        }
      ]
    },
    {
      "cell_type": "code",
      "source": [
        "#create a 2x2 matrix\n",
        "\n",
        "a=np.array([[1,2],[3,4]])\n",
        "b=np.array([[3,1],[6,7]])\n",
        "print(a)\n",
        "print(b)"
      ],
      "metadata": {
        "colab": {
          "base_uri": "https://localhost:8080/"
        },
        "id": "fYHmMDc5K0pZ",
        "outputId": "165c01a9-fe4b-489e-bc0c-8e0fe5a98d6b"
      },
      "execution_count": null,
      "outputs": [
        {
          "output_type": "stream",
          "name": "stdout",
          "text": [
            "[[1 2]\n",
            " [3 4]]\n",
            "[[3 1]\n",
            " [6 7]]\n"
          ]
        }
      ]
    },
    {
      "cell_type": "code",
      "source": [
        "#matrix addition\n",
        "\n",
        "print(a+b)\n",
        "\n",
        "#matrix substraction\n",
        "\n",
        "print(a-b)\n",
        "\n",
        "#matrix multiplication\n",
        "\n",
        "print(a*b)  #not a matrix multiplication\n",
        "\n",
        "print(a@b)\n",
        "print(a.dot(b))  #matrix multiplication\n",
        "\n",
        "#matrix division\n",
        "\n",
        "print(a/b)"
      ],
      "metadata": {
        "colab": {
          "base_uri": "https://localhost:8080/"
        },
        "id": "Tc0JKgJRLaoS",
        "outputId": "9ff70ebe-be07-4b5a-e828-42e7972faede"
      },
      "execution_count": null,
      "outputs": [
        {
          "output_type": "stream",
          "name": "stdout",
          "text": [
            "[[ 4  3]\n",
            " [ 9 11]]\n",
            "[[-2  1]\n",
            " [-3 -3]]\n",
            "[[ 3  2]\n",
            " [18 28]]\n",
            "[[15 15]\n",
            " [33 31]]\n",
            "[[15 15]\n",
            " [33 31]]\n",
            "[[0.33333333 2.        ]\n",
            " [0.5        0.57142857]]\n"
          ]
        }
      ]
    },
    {
      "cell_type": "markdown",
      "source": [
        "MAGIC means -have two underscore eg: __ add__"
      ],
      "metadata": {
        "id": "eKksX_BWNce5"
      }
    },
    {
      "cell_type": "code",
      "source": [
        "#FULL MATRIX\n",
        "\n",
        "a=np.full([3,3],7,dtype=int)\n",
        "a"
      ],
      "metadata": {
        "colab": {
          "base_uri": "https://localhost:8080/"
        },
        "id": "N_SkS0wfOPaK",
        "outputId": "f66c0251-9870-4935-f382-e50d6d5bad69"
      },
      "execution_count": null,
      "outputs": [
        {
          "output_type": "execute_result",
          "data": {
            "text/plain": [
              "array([[7, 7, 7],\n",
              "       [7, 7, 7],\n",
              "       [7, 7, 7]])"
            ]
          },
          "metadata": {},
          "execution_count": 35
        }
      ]
    },
    {
      "cell_type": "code",
      "source": [
        "#create a 3x4 matrix with value 9 and datatype complex\n",
        "\n",
        "z=np.full([3,4],9,dtype=complex)\n",
        "z"
      ],
      "metadata": {
        "colab": {
          "base_uri": "https://localhost:8080/"
        },
        "id": "VYIRkQgBObWW",
        "outputId": "db7bf4cc-0af6-43cb-ed23-f99c46338bca"
      },
      "execution_count": null,
      "outputs": [
        {
          "output_type": "execute_result",
          "data": {
            "text/plain": [
              "array([[9.+0.j, 9.+0.j, 9.+0.j, 9.+0.j],\n",
              "       [9.+0.j, 9.+0.j, 9.+0.j, 9.+0.j],\n",
              "       [9.+0.j, 9.+0.j, 9.+0.j, 9.+0.j]])"
            ]
          },
          "metadata": {},
          "execution_count": 37
        }
      ]
    },
    {
      "cell_type": "code",
      "source": [
        "#identity matrix\n",
        "a=np.identity((3),dtype=int)\n",
        "a\n",
        "\n",
        "a=np.eye(3)\n",
        "a"
      ],
      "metadata": {
        "colab": {
          "base_uri": "https://localhost:8080/"
        },
        "id": "vjY4-rxnO1uF",
        "outputId": "651fa549-3d7c-4f56-d099-44ee5bab95ff"
      },
      "execution_count": null,
      "outputs": [
        {
          "output_type": "execute_result",
          "data": {
            "text/plain": [
              "array([[1., 0., 0.],\n",
              "       [0., 1., 0.],\n",
              "       [0., 0., 1.]])"
            ]
          },
          "metadata": {},
          "execution_count": 45
        }
      ]
    },
    {
      "cell_type": "code",
      "source": [
        "#create a 4x4 matrix\n",
        "\n",
        "y=np.array([[1,2,3,4],[5,6,7,8],[9,3,2,7],[2,1,9,6]])\n",
        "print(y)\n",
        "print(y.size)"
      ],
      "metadata": {
        "colab": {
          "base_uri": "https://localhost:8080/"
        },
        "id": "Qq46x0sFQtt5",
        "outputId": "a1d42520-0e89-4248-bc3f-71a7764a9fce"
      },
      "execution_count": null,
      "outputs": [
        {
          "output_type": "stream",
          "name": "stdout",
          "text": [
            "[[1 2 3 4]\n",
            " [5 6 7 8]\n",
            " [9 3 2 7]\n",
            " [2 1 9 6]]\n",
            "16\n"
          ]
        }
      ]
    },
    {
      "cell_type": "code",
      "source": [
        "a=y.reshape(16,1)\n",
        "a\n",
        "a=y.reshape(8,2)\n",
        "a"
      ],
      "metadata": {
        "colab": {
          "base_uri": "https://localhost:8080/"
        },
        "id": "75sWj-vXRtQ1",
        "outputId": "34ada1c9-ef63-456b-e34f-05fa49fa158e"
      },
      "execution_count": null,
      "outputs": [
        {
          "output_type": "execute_result",
          "data": {
            "text/plain": [
              "array([[1, 2],\n",
              "       [3, 4],\n",
              "       [5, 6],\n",
              "       [7, 8],\n",
              "       [9, 3],\n",
              "       [2, 7],\n",
              "       [2, 1],\n",
              "       [9, 6]])"
            ]
          },
          "metadata": {},
          "execution_count": 50
        }
      ]
    },
    {
      "cell_type": "code",
      "source": [
        "#arange\n",
        "\n",
        "a=np.arange(1,10,2)\n",
        "a"
      ],
      "metadata": {
        "colab": {
          "base_uri": "https://localhost:8080/"
        },
        "id": "tdEMqcWMSEfn",
        "outputId": "50c94a9d-e939-403a-adca-ce5bb8c6425b"
      },
      "execution_count": null,
      "outputs": [
        {
          "output_type": "execute_result",
          "data": {
            "text/plain": [
              "array([1, 3, 5, 7, 9])"
            ]
          },
          "metadata": {},
          "execution_count": 51
        }
      ]
    },
    {
      "cell_type": "code",
      "source": [
        "#create a 5x2 matrix using arange\n",
        "\n",
        "a=np.arange(1,11).reshape(5,2)\n",
        "a"
      ],
      "metadata": {
        "colab": {
          "base_uri": "https://localhost:8080/"
        },
        "id": "o8baElVIShdm",
        "outputId": "723a9ef3-0885-447d-fd21-04c0b590ac79"
      },
      "execution_count": null,
      "outputs": [
        {
          "output_type": "execute_result",
          "data": {
            "text/plain": [
              "array([[ 1,  2],\n",
              "       [ 3,  4],\n",
              "       [ 5,  6],\n",
              "       [ 7,  8],\n",
              "       [ 9, 10]])"
            ]
          },
          "metadata": {},
          "execution_count": 55
        }
      ]
    },
    {
      "cell_type": "code",
      "source": [
        "#create a 3x3 matrix with float values\n",
        "\n",
        "a=np.array([[2.5,3.4,5.5],[7.1,2.9,3.1],[8.9,4.5,6.7]])\n",
        "a"
      ],
      "metadata": {
        "colab": {
          "base_uri": "https://localhost:8080/"
        },
        "id": "sdULgoe0TJGC",
        "outputId": "8b0f93f2-da60-4b5b-c0c3-52e8d19dddda"
      },
      "execution_count": null,
      "outputs": [
        {
          "output_type": "execute_result",
          "data": {
            "text/plain": [
              "array([[2.5, 3.4, 5.5],\n",
              "       [7.1, 2.9, 3.1],\n",
              "       [8.9, 4.5, 6.7]])"
            ]
          },
          "metadata": {},
          "execution_count": 56
        }
      ]
    },
    {
      "cell_type": "code",
      "source": [
        "#floor\n",
        "\n",
        "z=np.floor(a)\n",
        "z"
      ],
      "metadata": {
        "colab": {
          "base_uri": "https://localhost:8080/"
        },
        "id": "TS9ZDwnKUgoB",
        "outputId": "7f0f0b0a-09bc-44d9-df0c-f43bc423f1c3"
      },
      "execution_count": null,
      "outputs": [
        {
          "output_type": "execute_result",
          "data": {
            "text/plain": [
              "array([[2., 3., 5.],\n",
              "       [7., 2., 3.],\n",
              "       [8., 4., 6.]])"
            ]
          },
          "metadata": {},
          "execution_count": 57
        }
      ]
    },
    {
      "cell_type": "code",
      "source": [
        "#ceil\n",
        "\n",
        "z=np.ceil(a)\n",
        "z"
      ],
      "metadata": {
        "colab": {
          "base_uri": "https://localhost:8080/"
        },
        "id": "29aLKIFHU7FX",
        "outputId": "e02521ff-8dae-4c34-ef16-fb1ccd904302"
      },
      "execution_count": null,
      "outputs": [
        {
          "output_type": "execute_result",
          "data": {
            "text/plain": [
              "array([[3., 4., 6.],\n",
              "       [8., 3., 4.],\n",
              "       [9., 5., 7.]])"
            ]
          },
          "metadata": {},
          "execution_count": 58
        }
      ]
    },
    {
      "cell_type": "code",
      "source": [
        "#round\n",
        "\n",
        "z=np.round(a)\n",
        "z                          #incase of .5 round towards even[even-back,odd-front eg:2.5=2,3.5=4]"
      ],
      "metadata": {
        "colab": {
          "base_uri": "https://localhost:8080/"
        },
        "id": "FODwmVmnVlwb",
        "outputId": "4dbc4bd0-5028-4ad2-e349-03270478977c"
      },
      "execution_count": null,
      "outputs": [
        {
          "output_type": "execute_result",
          "data": {
            "text/plain": [
              "array([[2., 3., 6.],\n",
              "       [7., 3., 3.],\n",
              "       [9., 4., 7.]])"
            ]
          },
          "metadata": {},
          "execution_count": 59
        }
      ]
    },
    {
      "cell_type": "code",
      "source": [
        "#create a 3x3 matrix\n",
        "\n",
        "import numpy as np\n",
        "a=np.array([[1,2,3],[4,5,6],[7,8,9]])                       #in numpy=axis=1 -> row\n",
        "a                                                           #In numpy=axis=0 ->column\n",
        "a.max()\n",
        "a.max(axis=1)\n",
        "a.max(axis=0)\n",
        "\n",
        "a.min()\n",
        "a.min(axis=1)\n",
        "a.min(axis=0)\n",
        "print(a.sum(axis=1))\n",
        "\n",
        "a.sum(axis=0)\n",
        "np.sqrt(a)\n",
        "np.sin(a)\n",
        "np.cos(a)\n",
        "np.tan(a)\n",
        "\n",
        "#flatten\n",
        "\n",
        "a.flatten()                                              #it get as one by one(one dimension)"
      ],
      "metadata": {
        "colab": {
          "base_uri": "https://localhost:8080/"
        },
        "id": "ZXJApgLEW8dt",
        "outputId": "2e3905e6-24bd-4a19-fae3-b65ebe5d6a4d"
      },
      "execution_count": 10,
      "outputs": [
        {
          "output_type": "stream",
          "name": "stdout",
          "text": [
            "[ 6 15 24]\n"
          ]
        },
        {
          "output_type": "execute_result",
          "data": {
            "text/plain": [
              "array([[ 1.55740772, -2.18503986, -0.14254654],\n",
              "       [ 1.15782128, -3.38051501, -0.29100619],\n",
              "       [ 0.87144798, -6.79971146, -0.45231566]])"
            ]
          },
          "metadata": {},
          "execution_count": 10
        }
      ]
    },
    {
      "cell_type": "code",
      "source": [
        "#sort\n",
        "#create a 3x3 matrix\n",
        "\n",
        "a=np.array([[3,4,1],[5,3,1],[6,9,8]])\n",
        "print(a)\n",
        "b=np.sort(a,axis=0)\n",
        "b=np.sort(a,axis=1)\n",
        "\n",
        "print(b)\n",
        "c=np.argsort(a,axis=1)       #arg=index\n",
        "                             #argsort=index based sorting\n",
        "print(c)"
      ],
      "metadata": {
        "colab": {
          "base_uri": "https://localhost:8080/"
        },
        "id": "y2bwIfaVldZC",
        "outputId": "6dd92108-56f6-4abc-fed0-67cb95f81679"
      },
      "execution_count": 13,
      "outputs": [
        {
          "output_type": "stream",
          "name": "stdout",
          "text": [
            "[[3 4 1]\n",
            " [5 3 1]\n",
            " [6 9 8]]\n",
            "[[1 3 4]\n",
            " [1 3 5]\n",
            " [6 8 9]]\n",
            "[[2 0 1]\n",
            " [2 1 0]\n",
            " [0 2 1]]\n"
          ]
        }
      ]
    },
    {
      "cell_type": "code",
      "source": [],
      "metadata": {
        "id": "FiV4vjUin0xN"
      },
      "execution_count": null,
      "outputs": []
    }
  ]
}